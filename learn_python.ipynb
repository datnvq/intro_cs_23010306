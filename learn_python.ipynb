{
 "cells": [
  {
   "cell_type": "code",
   "execution_count": 1,
   "id": "8b483d4f",
   "metadata": {},
   "outputs": [],
   "source": [
    "s = \"hello\""
   ]
  },
  {
   "cell_type": "code",
   "execution_count": 2,
   "id": "9067f9ea",
   "metadata": {},
   "outputs": [
    {
     "data": {
      "text/plain": [
       "str"
      ]
     },
     "execution_count": 2,
     "metadata": {},
     "output_type": "execute_result"
    }
   ],
   "source": [
    "type(s)"
   ]
  },
  {
   "cell_type": "code",
   "execution_count": 3,
   "id": "5ad8c34e",
   "metadata": {},
   "outputs": [],
   "source": [
    "s = 5"
   ]
  },
  {
   "cell_type": "code",
   "execution_count": 4,
   "id": "9330b9c1",
   "metadata": {},
   "outputs": [
    {
     "data": {
      "text/plain": [
       "int"
      ]
     },
     "execution_count": 4,
     "metadata": {},
     "output_type": "execute_result"
    }
   ],
   "source": [
    "type(s)"
   ]
  },
  {
   "cell_type": "code",
   "execution_count": 5,
   "id": "2439cdd9",
   "metadata": {},
   "outputs": [],
   "source": [
    "s = 14.65"
   ]
  },
  {
   "cell_type": "code",
   "execution_count": 6,
   "id": "a0ef179f",
   "metadata": {},
   "outputs": [
    {
     "data": {
      "text/plain": [
       "float"
      ]
     },
     "execution_count": 6,
     "metadata": {},
     "output_type": "execute_result"
    }
   ],
   "source": [
    "type(s)"
   ]
  },
  {
   "cell_type": "code",
   "execution_count": 7,
   "id": "57cd04a2",
   "metadata": {},
   "outputs": [
    {
     "ename": "NameError",
     "evalue": "name 'abc' is not defined",
     "output_type": "error",
     "traceback": [
      "\u001b[0;31m---------------------------------------------------------------------------\u001b[0m",
      "\u001b[0;31mNameError\u001b[0m                                 Traceback (most recent call last)",
      "Cell \u001b[0;32mIn [7], line 1\u001b[0m\n\u001b[0;32m----> 1\u001b[0m s \u001b[38;5;241m=\u001b[39m \u001b[43mabc\u001b[49m\n",
      "\u001b[0;31mNameError\u001b[0m: name 'abc' is not defined"
     ]
    }
   ],
   "source": [
    "s = abc"
   ]
  },
  {
   "cell_type": "code",
   "execution_count": 8,
   "id": "c09131af",
   "metadata": {},
   "outputs": [],
   "source": [
    "s = \"abc\""
   ]
  },
  {
   "cell_type": "code",
   "execution_count": 9,
   "id": "b8ecee27",
   "metadata": {},
   "outputs": [
    {
     "name": "stdout",
     "output_type": "stream",
     "text": [
      "c\n"
     ]
    }
   ],
   "source": [
    "print(s[2])"
   ]
  },
  {
   "cell_type": "code",
   "execution_count": 13,
   "id": "3fbe6530",
   "metadata": {},
   "outputs": [
    {
     "data": {
      "text/plain": [
       "True"
      ]
     },
     "execution_count": 13,
     "metadata": {},
     "output_type": "execute_result"
    }
   ],
   "source": [
    "1 == 1"
   ]
  },
  {
   "cell_type": "code",
   "execution_count": 11,
   "id": "24186e4a",
   "metadata": {},
   "outputs": [
    {
     "data": {
      "text/plain": [
       "True"
      ]
     },
     "execution_count": 11,
     "metadata": {},
     "output_type": "execute_result"
    }
   ],
   "source": [
    "True"
   ]
  },
  {
   "cell_type": "code",
   "execution_count": 12,
   "id": "d1769eef",
   "metadata": {},
   "outputs": [
    {
     "data": {
      "text/plain": [
       "False"
      ]
     },
     "execution_count": 12,
     "metadata": {},
     "output_type": "execute_result"
    }
   ],
   "source": [
    "False"
   ]
  },
  {
   "cell_type": "code",
   "execution_count": 14,
   "id": "86bd9e51",
   "metadata": {},
   "outputs": [
    {
     "data": {
      "text/plain": [
       "True"
      ]
     },
     "execution_count": 14,
     "metadata": {},
     "output_type": "execute_result"
    }
   ],
   "source": [
    "(1==1) and (2!=4)"
   ]
  },
  {
   "cell_type": "code",
   "execution_count": 15,
   "id": "8e49845c",
   "metadata": {},
   "outputs": [
    {
     "data": {
      "text/plain": [
       "True"
      ]
     },
     "execution_count": 15,
     "metadata": {},
     "output_type": "execute_result"
    }
   ],
   "source": [
    "1==1 or 2==3"
   ]
  },
  {
   "cell_type": "code",
   "execution_count": 16,
   "id": "9ef10572",
   "metadata": {},
   "outputs": [
    {
     "data": {
      "text/plain": [
       "False"
      ]
     },
     "execution_count": 16,
     "metadata": {},
     "output_type": "execute_result"
    }
   ],
   "source": [
    "\"test\" == \"Test\""
   ]
  },
  {
   "cell_type": "code",
   "execution_count": 17,
   "id": "29b561d0",
   "metadata": {},
   "outputs": [],
   "source": [
    "s = [\"apple\", \"banana\", \"grape\"]"
   ]
  },
  {
   "cell_type": "code",
   "execution_count": 18,
   "id": "11a3d703",
   "metadata": {},
   "outputs": [
    {
     "name": "stdout",
     "output_type": "stream",
     "text": [
      "grape\n"
     ]
    }
   ],
   "source": [
    "print(s[2])"
   ]
  },
  {
   "cell_type": "code",
   "execution_count": 19,
   "id": "984f6abe",
   "metadata": {},
   "outputs": [
    {
     "data": {
      "text/plain": [
       "list"
      ]
     },
     "execution_count": 19,
     "metadata": {},
     "output_type": "execute_result"
    }
   ],
   "source": [
    "type(s)"
   ]
  },
  {
   "cell_type": "code",
   "execution_count": 20,
   "id": "10f974a0",
   "metadata": {},
   "outputs": [],
   "source": [
    "fruit = s"
   ]
  },
  {
   "cell_type": "code",
   "execution_count": 21,
   "id": "cfda1f28",
   "metadata": {},
   "outputs": [
    {
     "name": "stdout",
     "output_type": "stream",
     "text": [
      "grape\n"
     ]
    }
   ],
   "source": [
    "print(fruit[2])"
   ]
  },
  {
   "cell_type": "code",
   "execution_count": 22,
   "id": "cb818229",
   "metadata": {},
   "outputs": [
    {
     "data": {
      "text/plain": [
       "list"
      ]
     },
     "execution_count": 22,
     "metadata": {},
     "output_type": "execute_result"
    }
   ],
   "source": [
    "type(fruit)"
   ]
  },
  {
   "cell_type": "code",
   "execution_count": 23,
   "id": "5b65b26c",
   "metadata": {},
   "outputs": [
    {
     "data": {
      "text/plain": [
       "list"
      ]
     },
     "execution_count": 23,
     "metadata": {},
     "output_type": "execute_result"
    }
   ],
   "source": [
    "type(fruit)"
   ]
  },
  {
   "cell_type": "code",
   "execution_count": 24,
   "id": "c7615bbc",
   "metadata": {},
   "outputs": [],
   "source": [
    "number = [2,3,4,5,1]"
   ]
  },
  {
   "cell_type": "code",
   "execution_count": 25,
   "id": "a2072310",
   "metadata": {},
   "outputs": [
    {
     "data": {
      "text/plain": [
       "list"
      ]
     },
     "execution_count": 25,
     "metadata": {},
     "output_type": "execute_result"
    }
   ],
   "source": [
    "type(number)"
   ]
  },
  {
   "cell_type": "code",
   "execution_count": 26,
   "id": "1ebe205c",
   "metadata": {},
   "outputs": [
    {
     "data": {
      "text/plain": [
       "5"
      ]
     },
     "execution_count": 26,
     "metadata": {},
     "output_type": "execute_result"
    }
   ],
   "source": [
    "number[3]"
   ]
  },
  {
   "cell_type": "code",
   "execution_count": 27,
   "id": "ef1c37a8",
   "metadata": {},
   "outputs": [
    {
     "data": {
      "text/plain": [
       "int"
      ]
     },
     "execution_count": 27,
     "metadata": {},
     "output_type": "execute_result"
    }
   ],
   "source": [
    "type(number[3])"
   ]
  },
  {
   "cell_type": "code",
   "execution_count": 28,
   "id": "d2fe7f98",
   "metadata": {},
   "outputs": [
    {
     "data": {
      "text/plain": [
       "'grape'"
      ]
     },
     "execution_count": 28,
     "metadata": {},
     "output_type": "execute_result"
    }
   ],
   "source": [
    "s[-1]"
   ]
  },
  {
   "cell_type": "code",
   "execution_count": 29,
   "id": "b2368992",
   "metadata": {},
   "outputs": [
    {
     "data": {
      "text/plain": [
       "'banana'"
      ]
     },
     "execution_count": 29,
     "metadata": {},
     "output_type": "execute_result"
    }
   ],
   "source": [
    "s[-2]"
   ]
  },
  {
   "cell_type": "code",
   "execution_count": 30,
   "id": "44a957e2",
   "metadata": {},
   "outputs": [
    {
     "ename": "IndexError",
     "evalue": "list index out of range",
     "output_type": "error",
     "traceback": [
      "\u001b[0;31m---------------------------------------------------------------------------\u001b[0m",
      "\u001b[0;31mIndexError\u001b[0m                                Traceback (most recent call last)",
      "Cell \u001b[0;32mIn [30], line 1\u001b[0m\n\u001b[0;32m----> 1\u001b[0m \u001b[43ms\u001b[49m\u001b[43m[\u001b[49m\u001b[38;5;241;43m-\u001b[39;49m\u001b[38;5;241;43m4\u001b[39;49m\u001b[43m]\u001b[49m\n",
      "\u001b[0;31mIndexError\u001b[0m: list index out of range"
     ]
    }
   ],
   "source": [
    "s[-4]"
   ]
  },
  {
   "cell_type": "code",
   "execution_count": 31,
   "id": "db71a634",
   "metadata": {},
   "outputs": [
    {
     "data": {
      "text/plain": [
       "'apple'"
      ]
     },
     "execution_count": 31,
     "metadata": {},
     "output_type": "execute_result"
    }
   ],
   "source": [
    "s[-3]"
   ]
  },
  {
   "cell_type": "code",
   "execution_count": 32,
   "id": "2a8e2868",
   "metadata": {},
   "outputs": [
    {
     "ename": "IndexError",
     "evalue": "list index out of range",
     "output_type": "error",
     "traceback": [
      "\u001b[0;31m---------------------------------------------------------------------------\u001b[0m",
      "\u001b[0;31mIndexError\u001b[0m                                Traceback (most recent call last)",
      "Cell \u001b[0;32mIn [32], line 1\u001b[0m\n\u001b[0;32m----> 1\u001b[0m \u001b[43ms\u001b[49m\u001b[43m[\u001b[49m\u001b[38;5;241;43m3\u001b[39;49m\u001b[43m]\u001b[49m\n",
      "\u001b[0;31mIndexError\u001b[0m: list index out of range"
     ]
    }
   ],
   "source": [
    "s[3]"
   ]
  },
  {
   "cell_type": "code",
   "execution_count": 34,
   "id": "af4b9624",
   "metadata": {},
   "outputs": [],
   "source": [
    "favorite_color = [\"blue\", \"green\", \"black\"]"
   ]
  },
  {
   "cell_type": "code",
   "execution_count": 35,
   "id": "ff3c0e8f",
   "metadata": {},
   "outputs": [
    {
     "data": {
      "text/plain": [
       "'blue'"
      ]
     },
     "execution_count": 35,
     "metadata": {},
     "output_type": "execute_result"
    }
   ],
   "source": [
    "favorite_color[0]"
   ]
  },
  {
   "cell_type": "code",
   "execution_count": 36,
   "id": "0d66f738",
   "metadata": {},
   "outputs": [
    {
     "data": {
      "text/plain": [
       "'green'"
      ]
     },
     "execution_count": 36,
     "metadata": {},
     "output_type": "execute_result"
    }
   ],
   "source": [
    "favorite_color[1]"
   ]
  },
  {
   "cell_type": "code",
   "execution_count": 37,
   "id": "953e77b5",
   "metadata": {},
   "outputs": [
    {
     "data": {
      "text/plain": [
       "'black'"
      ]
     },
     "execution_count": 37,
     "metadata": {},
     "output_type": "execute_result"
    }
   ],
   "source": [
    "favorite_color[2]"
   ]
  },
  {
   "cell_type": "markdown",
   "id": "3956df0d",
   "metadata": {},
   "source": [
    "## Một số hàm\n"
   ]
  },
  {
   "cell_type": "markdown",
   "id": "49f050e2",
   "metadata": {},
   "source": [
    "Slicing: Lấy ra danh sách con\n",
    "ls[begin:end:step]"
   ]
  },
  {
   "cell_type": "code",
   "execution_count": 38,
   "id": "a72ba01b",
   "metadata": {},
   "outputs": [],
   "source": [
    "lst = [1,4,2.3,54,43,12,43]"
   ]
  },
  {
   "cell_type": "code",
   "execution_count": 39,
   "id": "2925b53d",
   "metadata": {},
   "outputs": [
    {
     "data": {
      "text/plain": [
       "[1, 4, 2.3]"
      ]
     },
     "execution_count": 39,
     "metadata": {},
     "output_type": "execute_result"
    }
   ],
   "source": [
    "lst[0:3]"
   ]
  },
  {
   "cell_type": "code",
   "execution_count": 40,
   "id": "b0f8c498",
   "metadata": {},
   "outputs": [
    {
     "data": {
      "text/plain": [
       "[2.3, 54]"
      ]
     },
     "execution_count": 40,
     "metadata": {},
     "output_type": "execute_result"
    }
   ],
   "source": [
    "lst[-5:-3]"
   ]
  },
  {
   "cell_type": "code",
   "execution_count": 41,
   "id": "1f3f2608",
   "metadata": {},
   "outputs": [
    {
     "data": {
      "text/plain": [
       "[]"
      ]
     },
     "execution_count": 41,
     "metadata": {},
     "output_type": "execute_result"
    }
   ],
   "source": [
    "lst[-4:-5]"
   ]
  },
  {
   "cell_type": "code",
   "execution_count": 42,
   "id": "210934c8",
   "metadata": {},
   "outputs": [
    {
     "data": {
      "text/plain": [
       "[]"
      ]
     },
     "execution_count": 42,
     "metadata": {},
     "output_type": "execute_result"
    }
   ],
   "source": [
    "lst[-4:-7]"
   ]
  },
  {
   "cell_type": "code",
   "execution_count": 43,
   "id": "1d25aae1",
   "metadata": {},
   "outputs": [
    {
     "data": {
      "text/plain": [
       "[43, 12, 43, 54, 2.3, 4, 1]"
      ]
     },
     "execution_count": 43,
     "metadata": {},
     "output_type": "execute_result"
    }
   ],
   "source": [
    "lst[::-1]"
   ]
  },
  {
   "cell_type": "code",
   "execution_count": 44,
   "id": "919a0120",
   "metadata": {},
   "outputs": [],
   "source": [
    "# Inset\n",
    "lst=[1,2,3]"
   ]
  },
  {
   "cell_type": "code",
   "execution_count": 45,
   "id": "2ec9921a",
   "metadata": {},
   "outputs": [],
   "source": [
    "lst.insert(2,9)"
   ]
  },
  {
   "cell_type": "code",
   "execution_count": 46,
   "id": "67d6dc6d",
   "metadata": {},
   "outputs": [
    {
     "data": {
      "text/plain": [
       "[1, 2, 9, 3]"
      ]
     },
     "execution_count": 46,
     "metadata": {},
     "output_type": "execute_result"
    }
   ],
   "source": [
    "lst"
   ]
  },
  {
   "cell_type": "code",
   "execution_count": 47,
   "id": "1204b8dd",
   "metadata": {},
   "outputs": [],
   "source": [
    "# append\n",
    "lst.append(11)"
   ]
  },
  {
   "cell_type": "code",
   "execution_count": 48,
   "id": "c2c28539",
   "metadata": {},
   "outputs": [
    {
     "data": {
      "text/plain": [
       "[1, 2, 9, 3, 11]"
      ]
     },
     "execution_count": 48,
     "metadata": {},
     "output_type": "execute_result"
    }
   ],
   "source": [
    "lst"
   ]
  },
  {
   "cell_type": "code",
   "execution_count": 49,
   "id": "59d7b7c3",
   "metadata": {},
   "outputs": [
    {
     "data": {
      "text/plain": [
       "<function list.remove(value, /)>"
      ]
     },
     "execution_count": 49,
     "metadata": {},
     "output_type": "execute_result"
    }
   ],
   "source": [
    "# remove\n",
    "lst.remove"
   ]
  },
  {
   "cell_type": "code",
   "execution_count": 50,
   "id": "e5536283",
   "metadata": {},
   "outputs": [],
   "source": [
    "lst.remove(2)"
   ]
  },
  {
   "cell_type": "code",
   "execution_count": 51,
   "id": "0d304d50",
   "metadata": {},
   "outputs": [
    {
     "data": {
      "text/plain": [
       "[1, 9, 3, 11]"
      ]
     },
     "execution_count": 51,
     "metadata": {},
     "output_type": "execute_result"
    }
   ],
   "source": [
    "lst"
   ]
  },
  {
   "cell_type": "code",
   "execution_count": 52,
   "id": "e398e8c4",
   "metadata": {},
   "outputs": [],
   "source": [
    "lst.append(11)"
   ]
  },
  {
   "cell_type": "code",
   "execution_count": 53,
   "id": "19d4981b",
   "metadata": {},
   "outputs": [],
   "source": [
    "lst.remove(11)"
   ]
  },
  {
   "cell_type": "code",
   "execution_count": 54,
   "id": "20fdcd69",
   "metadata": {},
   "outputs": [
    {
     "data": {
      "text/plain": [
       "[1, 9, 3, 11]"
      ]
     },
     "execution_count": 54,
     "metadata": {},
     "output_type": "execute_result"
    }
   ],
   "source": [
    "lst"
   ]
  },
  {
   "cell_type": "code",
   "execution_count": 55,
   "id": "a518b15b",
   "metadata": {},
   "outputs": [],
   "source": [
    "# reverse\n",
    "lst.reverse()"
   ]
  },
  {
   "cell_type": "code",
   "execution_count": 56,
   "id": "c5a13006",
   "metadata": {},
   "outputs": [
    {
     "data": {
      "text/plain": [
       "[11, 3, 9, 1]"
      ]
     },
     "execution_count": 56,
     "metadata": {},
     "output_type": "execute_result"
    }
   ],
   "source": [
    "lst"
   ]
  },
  {
   "cell_type": "code",
   "execution_count": 57,
   "id": "dadab541",
   "metadata": {},
   "outputs": [],
   "source": [
    "del lst[2]"
   ]
  },
  {
   "cell_type": "code",
   "execution_count": 58,
   "id": "aede4509",
   "metadata": {},
   "outputs": [
    {
     "data": {
      "text/plain": [
       "[11, 3, 1]"
      ]
     },
     "execution_count": 58,
     "metadata": {},
     "output_type": "execute_result"
    }
   ],
   "source": [
    "lst"
   ]
  },
  {
   "cell_type": "code",
   "execution_count": 59,
   "id": "643a29da",
   "metadata": {},
   "outputs": [],
   "source": [
    "# sort\n",
    "lst.sort()"
   ]
  },
  {
   "cell_type": "code",
   "execution_count": 60,
   "id": "64df32be",
   "metadata": {},
   "outputs": [
    {
     "data": {
      "text/plain": [
       "[1, 3, 11]"
      ]
     },
     "execution_count": 60,
     "metadata": {},
     "output_type": "execute_result"
    }
   ],
   "source": [
    "lst"
   ]
  },
  {
   "cell_type": "code",
   "execution_count": 61,
   "id": "c02a30b4",
   "metadata": {},
   "outputs": [],
   "source": [
    "lst.sort(reverse=True)"
   ]
  },
  {
   "cell_type": "markdown",
   "id": "e9647e8e",
   "metadata": {},
   "source": [
    "# Danh sách đa chiều (Ma trận là danh sách 2 chiều)"
   ]
  },
  {
   "cell_type": "code",
   "execution_count": 62,
   "id": "0c3e15fc",
   "metadata": {},
   "outputs": [],
   "source": [
    "matrix = [\n",
    "    [10,13,14],\n",
    "    [40,5,8],\n",
    "    [4,5,7]\n",
    "]"
   ]
  },
  {
   "cell_type": "code",
   "execution_count": 63,
   "id": "0457f216",
   "metadata": {},
   "outputs": [
    {
     "data": {
      "text/plain": [
       "[[10, 13, 14], [40, 5, 8], [4, 5, 7]]"
      ]
     },
     "execution_count": 63,
     "metadata": {},
     "output_type": "execute_result"
    }
   ],
   "source": [
    "matrix"
   ]
  },
  {
   "cell_type": "code",
   "execution_count": 65,
   "id": "65dfb888",
   "metadata": {},
   "outputs": [
    {
     "data": {
      "text/plain": [
       "8"
      ]
     },
     "execution_count": 65,
     "metadata": {},
     "output_type": "execute_result"
    }
   ],
   "source": [
    "matrix[1][2]"
   ]
  },
  {
   "cell_type": "markdown",
   "id": "9edd48c6",
   "metadata": {},
   "source": [
    "## Biểu thức điều kiện và vòng lặp"
   ]
  },
  {
   "cell_type": "markdown",
   "id": "ae64b8bf",
   "metadata": {},
   "source": [
    "### if Statements"
   ]
  },
  {
   "cell_type": "code",
   "execution_count": null,
   "id": "eab349ec",
   "metadata": {},
   "outputs": [],
   "source": [
    "name = input(\"Nhập vào ten của bạn: \")"
   ]
  },
  {
   "cell_type": "code",
   "execution_count": null,
   "id": "7ac9f77a",
   "metadata": {},
   "outputs": [],
   "source": [
    "if name == \"Dat\":\n",
    "    print(\"Hi Dat!\")\n",
    "elif name == \"John\":\n",
    "    print(\"Hi John!\")\n",
    "else:\n",
    "    print(\"Không phải là Dat, ma la\",name)\n",
    "    \n",
    "    "
   ]
  },
  {
   "cell_type": "markdown",
   "id": "5791dd23",
   "metadata": {},
   "source": [
    "### Vòng lặp (loops)\n",
    "\n",
    "- Counting loops (lặp đếm)\n",
    "- Conditinal loops (lặp điều kiện)"
   ]
  },
  {
   "cell_type": "code",
   "execution_count": null,
   "id": "791beca3",
   "metadata": {},
   "outputs": [],
   "source": [
    "# Counting loops - for\n",
    "for mynum in [1,2,3,4,5]:\n",
    "    newnum = mynum + 1\n",
    "    print(\"Số mới là\", newnum)"
   ]
  },
  {
   "cell_type": "code",
   "execution_count": null,
   "id": "43d51274",
   "metadata": {},
   "outputs": [],
   "source": []
  },
  {
   "cell_type": "code",
   "execution_count": 90,
   "id": "173b8fc4",
   "metadata": {},
   "outputs": [
    {
     "name": "stdout",
     "output_type": "stream",
     "text": [
      "So dem la: 0\n",
      "So dem la: 1\n",
      "So dem la: 2\n",
      "So dem la: 3\n",
      "So dem la: 4\n",
      "So dem la: 5\n",
      "So dem la: 6\n",
      "So dem la: 7\n",
      "So dem la: 8\n",
      "So dem la: 9\n"
     ]
    }
   ],
   "source": [
    "# Conditional loops - while\n",
    "count = 0\n",
    "while(count < 10):\n",
    "    print(\"So dem la:\", count)\n",
    "    count = count + 1"
   ]
  },
  {
   "cell_type": "code",
   "execution_count": 91,
   "id": "08a6d725",
   "metadata": {},
   "outputs": [
    {
     "name": "stdout",
     "output_type": "stream",
     "text": [
      "So dem la: 0\n",
      "So dem la: 1\n",
      "So dem la: 2\n",
      "So dem la: 3\n",
      "So dem la: 4\n",
      "So dem la: 5\n"
     ]
    }
   ],
   "source": [
    "count = 0\n",
    "while(count < 10):\n",
    "    print(\"So dem la:\", count)\n",
    "    if count == 5:\n",
    "        break\n",
    "    count +=1\n",
    "    "
   ]
  },
  {
   "cell_type": "code",
   "execution_count": 93,
   "id": "53b0f084",
   "metadata": {},
   "outputs": [
    {
     "name": "stdout",
     "output_type": "stream",
     "text": [
      "Nhap vao mot so:12\n",
      "Gia tri so ban nhap la: 12\n",
      "ban co muon tiep tuc khong? (y/n): n\n",
      "Nhap vao mot so:123\n",
      "Gia tri so ban nhap la: 123\n",
      "ban co muon tiep tuc khong? (y/n): y\n",
      "Bye bye!\n"
     ]
    }
   ],
   "source": [
    "while(1):\n",
    "    int_num = int(input(\"Nhap vao mot so:\"))\n",
    "    print(\"Gia tri so ban nhap la:\", int_num)\n",
    "    check = input(\"ban co muon tiep tuc khong? (y/n): \")\n",
    "    if(check == \"y\"):\n",
    "        print(\"Bye bye!\")\n",
    "        break"
   ]
  },
  {
   "cell_type": "markdown",
   "id": "f39acbca",
   "metadata": {},
   "source": [
    "# FUNCTIONS"
   ]
  },
  {
   "cell_type": "code",
   "execution_count": 3,
   "id": "df70946d",
   "metadata": {},
   "outputs": [],
   "source": [
    "def say_hello(myname):\n",
    "    print(\"hello world\", myname)"
   ]
  },
  {
   "cell_type": "code",
   "execution_count": 8,
   "id": "f7c895bb",
   "metadata": {},
   "outputs": [
    {
     "name": "stdout",
     "output_type": "stream",
     "text": [
      "hello world Dat\n"
     ]
    }
   ],
   "source": [
    "say_hello(\"Dat\")"
   ]
  },
  {
   "cell_type": "code",
   "execution_count": 11,
   "id": "4991ffd0",
   "metadata": {},
   "outputs": [
    {
     "name": "stdout",
     "output_type": "stream",
     "text": [
      "Nhập tên của bạn:Đạt\n",
      "hello world Đạt\n"
     ]
    }
   ],
   "source": [
    "myname = input(\"Nhập tên của bạn:\")\n",
    "say_hello(myname)"
   ]
  },
  {
   "cell_type": "code",
   "execution_count": 22,
   "id": "5c1502ae",
   "metadata": {},
   "outputs": [
    {
     "name": "stdout",
     "output_type": "stream",
     "text": [
      "Là số chẵn\n"
     ]
    }
   ],
   "source": [
    "def check_num(num):\n",
    "    if(num % 2 == 0): print(\"Là số chẵn\")\n",
    "    else: print(\"Là số lẻ\")\n",
    "check_num(8)"
   ]
  },
  {
   "cell_type": "code",
   "execution_count": 38,
   "id": "bad55285",
   "metadata": {},
   "outputs": [
    {
     "name": "stdout",
     "output_type": "stream",
     "text": [
      "8\n"
     ]
    }
   ],
   "source": [
    "#Viết 1 hàm im ra tích của 2 số nhập vào:\n",
    "def tich(num1, num2):\n",
    "    print(num1*num2)\n",
    "tich(2,4)"
   ]
  },
  {
   "cell_type": "markdown",
   "id": "afce5c75",
   "metadata": {},
   "source": [
    "## Functions: output (Giá trị tra về của hàm)"
   ]
  },
  {
   "cell_type": "code",
   "execution_count": 39,
   "id": "d27b109f",
   "metadata": {},
   "outputs": [
    {
     "name": "stdout",
     "output_type": "stream",
     "text": [
      "12\n"
     ]
    }
   ],
   "source": [
    "tich(2,6)"
   ]
  },
  {
   "cell_type": "code",
   "execution_count": 40,
   "id": "8398c006",
   "metadata": {},
   "outputs": [
    {
     "name": "stdout",
     "output_type": "stream",
     "text": [
      "12\n"
     ]
    }
   ],
   "source": [
    "kq = tich(2,6)"
   ]
  },
  {
   "cell_type": "code",
   "execution_count": 41,
   "id": "63e89de2",
   "metadata": {},
   "outputs": [
    {
     "name": "stdout",
     "output_type": "stream",
     "text": [
      "None\n"
     ]
    }
   ],
   "source": [
    "print(kq)"
   ]
  },
  {
   "cell_type": "code",
   "execution_count": 42,
   "id": "a9739101",
   "metadata": {},
   "outputs": [],
   "source": [
    "def tich(num1, num2):\n",
    "    return num1*num2"
   ]
  },
  {
   "cell_type": "code",
   "execution_count": 43,
   "id": "e7b6d45d",
   "metadata": {},
   "outputs": [],
   "source": [
    "kq=tich(2,6)"
   ]
  },
  {
   "cell_type": "code",
   "execution_count": 45,
   "id": "ccb21b5e",
   "metadata": {},
   "outputs": [
    {
     "name": "stdout",
     "output_type": "stream",
     "text": [
      "12\n"
     ]
    }
   ],
   "source": [
    "print(kq)"
   ]
  },
  {
   "cell_type": "code",
   "execution_count": 51,
   "id": "95d92778",
   "metadata": {},
   "outputs": [],
   "source": []
  },
  {
   "cell_type": "code",
   "execution_count": 47,
   "id": "5f4b2da5",
   "metadata": {},
   "outputs": [],
   "source": [
    "def hello_there():\n",
    "    print(\"Type your name:\")\n",
    "    name = input()\n",
    "    print(\"hi\", name, \"how are you?\")"
   ]
  },
  {
   "cell_type": "code",
   "execution_count": 48,
   "id": "49754fe6",
   "metadata": {},
   "outputs": [
    {
     "name": "stdout",
     "output_type": "stream",
     "text": [
      "Type your name:\n",
      "asds\n",
      "hi asds how are you?\n"
     ]
    }
   ],
   "source": [
    "hello_there()"
   ]
  },
  {
   "cell_type": "code",
   "execution_count": 72,
   "id": "c501dde5",
   "metadata": {},
   "outputs": [],
   "source": [
    "import mymodule"
   ]
  },
  {
   "cell_type": "code",
   "execution_count": 73,
   "id": "688a4770",
   "metadata": {},
   "outputs": [
    {
     "data": {
      "text/plain": [
       "2"
      ]
     },
     "execution_count": 73,
     "metadata": {},
     "output_type": "execute_result"
    }
   ],
   "source": [
    "mymodule.tich(1,2)"
   ]
  },
  {
   "cell_type": "code",
   "execution_count": 115,
   "id": "82af23cc",
   "metadata": {},
   "outputs": [],
   "source": [
    "def game1():\n",
    "    secret_num = 9\n",
    "    guess = int(input(\"Nhập số ngẫu nhiên: \"))\n",
    "    if(guess == secret_num): print(\"Chính xác!\")\n",
    "    else: print(\"Sai!\")"
   ]
  },
  {
   "cell_type": "code",
   "execution_count": 120,
   "id": "6851cfdb",
   "metadata": {},
   "outputs": [],
   "source": [
    "from random import randint\n",
    "def game2():\n",
    "    secret_num = randint(1,10)\n",
    "    while(1):\n",
    "        guess = int(input(\"Nhập số ngẫu nhiên: \"))\n",
    "        if(guess == secret_num): \n",
    "            print(\"Chính xác!\")\n",
    "            break\n",
    "        else: print(\"Sai!\")"
   ]
  },
  {
   "cell_type": "code",
   "execution_count": 121,
   "id": "9d2482de",
   "metadata": {},
   "outputs": [],
   "source": [
    "def game3():\n",
    "    secret_num = randint(1,10)\n",
    "    while(1):\n",
    "        guess = int(input(\"Nhập số ngẫu nhiên: \"))\n",
    "        if(guess == secret_num):\n",
    "            print(\"Chính xác!\")\n",
    "            break\n",
    "        elif(guess > secret_num):\n",
    "            print(\"Số bạn chọn lớn hơn số bí mật! Vui lòng nhập lại!\")\n",
    "        else:\n",
    "            print(\"Số bạn chọn nhỏ hơn số bí mật! Vui lòng nhập lại!\")"
   ]
  },
  {
   "cell_type": "code",
   "execution_count": 122,
   "id": "ed6bfdd7",
   "metadata": {},
   "outputs": [
    {
     "name": "stdout",
     "output_type": "stream",
     "text": [
      "Nhập số ngẫu nhiên: 9\n",
      "Sai!\n",
      "Nhập số ngẫu nhiên: 5\n",
      "Sai!\n",
      "Nhập số ngẫu nhiên: 4\n",
      "Sai!\n",
      "Nhập số ngẫu nhiên: 5\n",
      "Sai!\n",
      "Nhập số ngẫu nhiên: 3\n",
      "Sai!\n",
      "Nhập số ngẫu nhiên: 6\n",
      "Sai!\n",
      "Nhập số ngẫu nhiên: 7\n",
      "Sai!\n",
      "Nhập số ngẫu nhiên: 1\n",
      "Chính xác!\n"
     ]
    }
   ],
   "source": [
    "game2()"
   ]
  },
  {
   "cell_type": "code",
   "execution_count": 129,
   "id": "d5998b40",
   "metadata": {},
   "outputs": [],
   "source": [
    "import mylib_game"
   ]
  },
  {
   "cell_type": "code",
   "execution_count": 130,
   "id": "8f58911c",
   "metadata": {},
   "outputs": [
    {
     "name": "stdout",
     "output_type": "stream",
     "text": [
      "Nhập số ngẫu nhiên: 7\n",
      "Sai!\n"
     ]
    }
   ],
   "source": [
    "mylib_game.game1()"
   ]
  },
  {
   "cell_type": "markdown",
   "id": "fedf7252",
   "metadata": {},
   "source": [
    "# Docstring (Hướng dẫn sử dụng hàm)\n",
    "\n",
    "VD: mylib_game.game1?"
   ]
  },
  {
   "cell_type": "markdown",
   "id": "ac4d8c37",
   "metadata": {},
   "source": [
    "# auto reload module"
   ]
  },
  {
   "cell_type": "code",
   "execution_count": 131,
   "id": "f136bcb7",
   "metadata": {},
   "outputs": [],
   "source": [
    "%load_ext autoreload\n",
    "%autoreload 2"
   ]
  },
  {
   "cell_type": "code",
   "execution_count": 5,
   "id": "d9e71f9c",
   "metadata": {},
   "outputs": [],
   "source": [
    "import mylib_game"
   ]
  },
  {
   "cell_type": "code",
   "execution_count": 6,
   "id": "81a5c896",
   "metadata": {},
   "outputs": [
    {
     "name": "stdout",
     "output_type": "stream",
     "text": [
      "Nhập số ngẫu nhiên: 99\n",
      "Số bạn chọn lớn hơn số bí mật! Vui lòng nhập lại!\n",
      "Nhập số ngẫu nhiên: 6\n",
      "Số bạn chọn lớn hơn số bí mật! Vui lòng nhập lại!\n",
      "Nhập số ngẫu nhiên: 7\n",
      "Số bạn chọn lớn hơn số bí mật! Vui lòng nhập lại!\n",
      "Nhập số ngẫu nhiên: 1\n",
      "Số bạn chọn nhỏ hơn số bí mật! Vui lòng nhập lại!\n",
      "Nhập số ngẫu nhiên: 2\n",
      "Chính xác!\n"
     ]
    }
   ],
   "source": [
    "mylib_game.game3()"
   ]
  },
  {
   "cell_type": "code",
   "execution_count": null,
   "id": "34633da9",
   "metadata": {},
   "outputs": [],
   "source": []
  }
 ],
 "metadata": {
  "kernelspec": {
   "display_name": "Python 3 (ipykernel)",
   "language": "python",
   "name": "python3"
  },
  "language_info": {
   "codemirror_mode": {
    "name": "ipython",
    "version": 3
   },
   "file_extension": ".py",
   "mimetype": "text/x-python",
   "name": "python",
   "nbconvert_exporter": "python",
   "pygments_lexer": "ipython3",
   "version": "3.9.7"
  }
 },
 "nbformat": 4,
 "nbformat_minor": 5
}
